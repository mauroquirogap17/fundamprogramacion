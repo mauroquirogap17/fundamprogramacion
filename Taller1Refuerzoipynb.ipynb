{
  "nbformat": 4,
  "nbformat_minor": 0,
  "metadata": {
    "colab": {
      "provenance": []
    },
    "kernelspec": {
      "name": "python3",
      "display_name": "Python 3"
    },
    "language_info": {
      "name": "python"
    }
  },
  "cells": [
    {
      "cell_type": "markdown",
      "source": [
        "**1. Un vendedor recibe un sueldo base más un 10% extra por\n",
        "comisión de sus ventas, el vendedor desea saber cuánto\n",
        "dinero obtendrá por concepto de comisiones por las tres\n",
        "ventas que realiza en el mes y el total que recibirá en\n",
        "el mes tomando en cuenta su sueldo base y comisiones.**"
      ],
      "metadata": {
        "id": "VRtooF3jN4gL"
      }
    },
    {
      "cell_type": "code",
      "source": [
        "# variable para capturar sueldo base\n",
        "sueldo_base = float(input(\"Digite su sueldo base \"))\n",
        "\n",
        "#captura valor de ventas\n",
        "venta1 = float(input(\"Digite el valor de la primera venta \"))\n",
        "venta2 = float(input(\"Digite el valor de la segunda venta \"))\n",
        "venta3 = float(input(\"Digite el valor de la tercera venta \"))\n",
        "\n",
        "#calculo venta total del mes\n",
        "venta_total = venta1 + venta2 + venta3\n",
        "\n",
        "# cálculo de la comision\n",
        "comision = venta_total * 0.10\n",
        "# Suma comision con el sueldo\n",
        "total_pago = sueldo_base + comision\n",
        "\n",
        "#Visualiza la comision por las ventas\n",
        "print(f\"La comision por las ventas es = {comision:,.0f}\")\n",
        "\n",
        "# Visualiza el total del pago recibido\n",
        "print(f\"El pago total es = {total_pago:,.0f}\")"
      ],
      "metadata": {
        "id": "2ev5f4wCN51y"
      },
      "execution_count": null,
      "outputs": []
    },
    {
      "cell_type": "markdown",
      "source": [
        "**2. Una tienda ofrece un descuento del 15% sobre el total\n",
        "de la compra y un cliente desea saber cuánto deberá\n",
        "pagar finalmente por su compra.**"
      ],
      "metadata": {
        "id": "3vsFx8aAZo4R"
      }
    },
    {
      "cell_type": "code",
      "source": [
        "# variable que captura el valor de la compra\n",
        "valor_compra = float(input(\"Digite el valor total de la compra \"))\n",
        "\n",
        "# Calcula valor del descuento\n",
        "desc = valor_compra * 0.15\n",
        "\n",
        "#Calcula pago final\n",
        "pago_final = valor_compra - desc\n",
        "\n",
        "#Visualiza el pago final\n",
        "print(f\"El pago final que debe realizar es = {pago_final:,.0f}\")"
      ],
      "metadata": {
        "id": "lbUDMIBzZ0oM"
      },
      "execution_count": null,
      "outputs": []
    },
    {
      "cell_type": "markdown",
      "source": [
        "**3. Un alumno desea saber cuál será su calificación final en\n",
        "la materia de Algoritmos. Dicha calificación se compone\n",
        "de tres exámenes parciales.**"
      ],
      "metadata": {
        "id": "4A46prm-fYjR"
      }
    },
    {
      "cell_type": "code",
      "source": [
        "# Se capturan las notas de los 3 examenes\n",
        "nota1 = float(input(\"Digite la nota del examen 1: \"))\n",
        "nota2 = float(input(\"Digite la nota del examen 2: \"))\n",
        "nota3 = float(input(\"Digite la nota del examen 3: \"))\n",
        "\n",
        "#Se calcula la nota promediando los 3 examenes\n",
        "nota_f = round((nota1 + nota2 + nota3 ) /3, 2)\n",
        "\n",
        "#Se visualiza la calificacion final\n",
        "print(f\"\\nLa calificacion final es = {nota_f}\")"
      ],
      "metadata": {
        "id": "oPeHjN5Bff0U"
      },
      "execution_count": null,
      "outputs": []
    },
    {
      "cell_type": "markdown",
      "source": [
        "**4. Un maestro desea saber qué porcentaje de hombres y que\n",
        "porcentaje de mujeres hay en un grupo de estudiantes.**"
      ],
      "metadata": {
        "id": "mX8-WmDWkqNS"
      }
    },
    {
      "cell_type": "code",
      "source": [
        "#Captura el total de estudiantes \n",
        "num_est = int(input(\"Digite la cantidad total de estudiantes del grupo: \"))\n",
        "\n",
        "#Captura el total de estudiantes mujeres\n",
        "num_fem = int(input(\"Digite la cantidad total de estudiantes mujeres del grupo: \"))\n",
        "\n",
        "#Captura el total de estudiantes hombres\n",
        "num_masc = int(input(\"Digite la cantidad total de estudiantes hombres del grupo: \"))\n",
        "\n",
        "#Calcula los porcentajes\n",
        "porc_fem = (num_fem * 100)/num_est\n",
        "porc_masc = (num_masc * 100)/num_est\n",
        "\n",
        "#Visualiza porcentaje de mujeres y hombres\n",
        "print(f\"\\nEl porcentaje de mujeres en el grupo de estudiantes es  = {porc_fem}\",\"% y de hombres es \",{porc_masc},\"%\")\n"
      ],
      "metadata": {
        "id": "I3BEXAb1kwIZ"
      },
      "execution_count": null,
      "outputs": []
    }
  ]
}