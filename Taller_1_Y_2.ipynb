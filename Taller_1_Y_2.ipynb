{
  "nbformat": 4,
  "nbformat_minor": 0,
  "metadata": {
    "colab": {
      "provenance": []
    },
    "kernelspec": {
      "name": "python3",
      "display_name": "Python 3"
    },
    "language_info": {
      "name": "python"
    }
  },
  "cells": [
    {
      "cell_type": "markdown",
      "source": [
        "**Captura de datos**"
      ],
      "metadata": {
        "id": "MFCMlAZyYUzl"
      }
    },
    {
      "cell_type": "code",
      "source": [
        "#Variable que solicita el nombre\n",
        "nombre = input(\"Digite su nombre \")\n",
        "\n",
        "#Variable que solicita el apellido\n",
        "apellido = input(\"Digite su apellido \")\n",
        "\n",
        "#Variable que solicita el numero de identificacion\n",
        "num_identi = input(\"Digite su numero de identificacion \")\n",
        "\n",
        "#Variable que solicita direccion\n",
        "dir = input(\"Digite su direccion \")\n",
        "\n",
        "#Variable que solicita el telefono\n",
        "telefono = input(\"Digite su numero de telefono \")\n",
        "\n",
        "#Variable que solicita la edad\n",
        "edad = int(input(\"Digite su edad \"))\n",
        "\n",
        "#Variable que solicita estado civil\n",
        "est_civil = input(\"Digite su estado civil \")\n",
        "\n",
        "#Variable que solicita numero de hijos\n",
        "num_hijos = int(input(\"Digite cuantos hijos tiene \"))\n",
        "\n",
        "#Variable que solicita la estatura\n",
        "estatura = input(\"Digite su estatura en centimetros \")\n",
        "\n",
        "#Variable que solicita la fecha de contratacion\n",
        "fecha_cont = input(\"Digite la fecha de contratacion (Dia/Mes/Año) \")\n",
        "\n",
        "#Variable que solicita el sueldo\n",
        "sueldo = float(input(\"Digite su sueldo basico \"))\n",
        "\n",
        "#Variable que solicita los dias laborados\n",
        "dias_labo = int(input(\"Digite la cantidad de dias laborados \"))\n",
        "\n",
        "#Se muestra en pantalla las variables capturadas\n",
        "print(\"\\n\"+nombre +\" \" +apellido,\" \",num_identi+\" \"+dir,\" \",telefono,\" \",edad,\" \"+est_civil,\" \",num_hijos,\" \",estatura,\" \",fecha_cont,\" \",sueldo,\" \",dias_labo)\n",
        "\n",
        "\n",
        "######### TALLER #2Validaciones con las condicionales #################\n",
        "\n",
        "#Validacion bono prepension\n",
        "if edad > 55:\n",
        "  bono = sueldo * 0.05\n",
        "  print(f\"\\nPor edad aplica para bono prepension de= ${bono:,.0f}\")\n",
        "else:\n",
        " print(\"\\nNo aplica para bono prepension\")\n",
        "\n",
        "#Validacion de paseo en diciembre\n",
        "if est_civil == \"casado\" and num_hijos > 0:\n",
        "  print(\"\\nAplica para paseo en diciembre\")\n",
        "else:\n",
        "  print(\"\\nNo Aplica para paseo en diciembre\")\n",
        "\n",
        "#Validacion para comision\n",
        "if sueldo >= 1000000 and sueldo <= 1500000:\n",
        "  com_dos =sueldo * 0.02\n",
        "  print(f\"\\nPor sueldo aplica para comision de 2%= ${com_dos:,.0f}\")\n",
        "elif sueldo >= 1500001 and sueldo <= 2000000:\n",
        "  com_cinco =sueldo * 0.05\n",
        "  print(f\"\\nPor sueldo aplica para comision de 5%= ${com_cinco:,.0f}\")\n",
        "else:\n",
        "  print(\"\\nNo aplica para comision por sueldo\")\n",
        "\n",
        "#Validacion de bono alimentacion\n",
        "if dias_labo > 20 and sueldo < 1000000:\n",
        "  print(f\"\\nTiene derecho a bono de alimentacion\")\n",
        "else:\n",
        "  print(\"\\nNo aplica para bono de alimentacion\")"
      ],
      "metadata": {
        "id": "iJ8uk7W1YkNs"
      },
      "execution_count": null,
      "outputs": []
    }
  ]
}